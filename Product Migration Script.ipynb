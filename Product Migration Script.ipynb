{
 "cells": [
  {
   "cell_type": "code",
   "execution_count": null,
   "metadata": {},
   "outputs": [],
   "source": [
    "import pandas as pd \n",
    "import numpy as np "
   ]
  },
  {
   "cell_type": "code",
   "execution_count": null,
   "metadata": {},
   "outputs": [],
   "source": [
    "### ACTION ### CHANGE TO YOUR FILE PATH\n",
    "df = pd.read_csv(r'C:\\Users\\aizhang\\OneDrive - ANSYS, Inc\\Desktop\\Ad-Hoc Tasks\\Chase\\Migration Automation\\Product Migration.csv')\n",
    "df"
   ]
  },
  {
   "cell_type": "code",
   "execution_count": null,
   "metadata": {},
   "outputs": [],
   "source": [
    "# quantity pivot table \n",
    "df['PRODUCT_TYPE_3'] = df['PRODUCT_TYPE_3'].fillna('')\n",
    "type_qty_pivot = df.pivot_table(index=['DESIGNATED_SITE_ANSYS_ACCOUNT_NUMBER','ACCOUNT_NAME'], columns=['PRODUCT_TYPE_2','PRODUCT_TYPE_3'], values = 'QUANTITY', aggfunc='sum', fill_value='')\n",
    "type_qty_pivot"
   ]
  },
  {
   "cell_type": "code",
   "execution_count": null,
   "metadata": {},
   "outputs": [],
   "source": [
    "### ACTION ### UPDATE THE COLUMN HEADER NAMES BASED ON YOUR ANALYSIS\n",
    "column_order = [\n",
    "    ('Enterprise',''), ('Premium',''),('Pro',''),('Solver',''),\n",
    "    ('Add-on','Far Infrared Extension'),\n",
    "    ('Add-on','HUD Design & Analysis'),\n",
    "    ('Add-on','Optical Design Optimizer'),\n",
    "    ('Add-on','Optical Part Design'),\n",
    "    ('Add-on','Optical Sensor Test')\n",
    "]\n",
    "\n",
    "type_qty_pivot = type_qty_pivot.loc[:, column_order]\n",
    "type_qty_pivot"
   ]
  },
  {
   "cell_type": "code",
   "execution_count": null,
   "metadata": {},
   "outputs": [],
   "source": [
    "type_qty_pivot = pd.DataFrame(type_qty_pivot)\n",
    "type_qty_pivot"
   ]
  },
  {
   "cell_type": "code",
   "execution_count": null,
   "metadata": {},
   "outputs": [],
   "source": [
    "# flatten the columns \n",
    "type_qty_pivot.columns = [col[1] if col[0] == 'Add-on' else col[0] for col in type_qty_pivot.columns]"
   ]
  },
  {
   "cell_type": "code",
   "execution_count": null,
   "metadata": {},
   "outputs": [],
   "source": [
    "type_qty_pivot"
   ]
  },
  {
   "cell_type": "code",
   "execution_count": null,
   "metadata": {},
   "outputs": [],
   "source": [
    "# config qty\n",
    "rows_qty = []\n",
    "\n",
    "for index, row in type_qty_pivot.iterrows():\n",
    "    filtered_row = [value for value in row if value != '']\n",
    "\n",
    "    rows_qty.append(filtered_row)\n",
    "\n",
    "for row in rows_qty:\n",
    "    print(row)"
   ]
  },
  {
   "cell_type": "code",
   "execution_count": null,
   "metadata": {},
   "outputs": [],
   "source": [
    "### ACTION ### INPUT ORIGINAL PRODUCT AND ITS PRICE TO CALCULATE ORIGINAL ACV\n",
    "product_price = {\n",
    "    'Enterprise': 101450,\n",
    "    'Premium': 43960,\n",
    "    'Pro': 20290,\n",
    "    'Solver': 16710,\n",
    "    'Far Infrared Extension': 27050,\n",
    "    'HUD Design & Analysis': 27050,\n",
    "    'Optical Design Optimizer': 6760,\n",
    "    'Optical Part Design': 27050,\n",
    "    'Optical Sensor Test': 27050\n",
    "}"
   ]
  },
  {
   "cell_type": "code",
   "execution_count": null,
   "metadata": {},
   "outputs": [],
   "source": [
    "# pivot table for acv calculation\n",
    "acv_pivot = type_qty_pivot\n",
    "for product, price in product_price.items():\n",
    "    acv_pivot[product] = acv_pivot[product] * price\n",
    "\n",
    "acv_pivot"
   ]
  },
  {
   "cell_type": "code",
   "execution_count": null,
   "metadata": {},
   "outputs": [],
   "source": [
    "type_qty_pivot"
   ]
  },
  {
   "cell_type": "code",
   "execution_count": null,
   "metadata": {},
   "outputs": [],
   "source": [
    "# acv list \n",
    "rows_acv = []\n",
    "\n",
    "for index, row in acv_pivot.iterrows():\n",
    "    filtered_row = [value for value in row if value != '']\n",
    "\n",
    "    rows_acv.append(filtered_row)\n",
    "\n",
    "for row in rows_acv:\n",
    "    print(row)"
   ]
  },
  {
   "cell_type": "code",
   "execution_count": null,
   "metadata": {},
   "outputs": [],
   "source": [
    "# total quantity list \n",
    "total_acv = [sum(acv) for acv in rows_acv]\n",
    "total_acv"
   ]
  },
  {
   "cell_type": "code",
   "execution_count": null,
   "metadata": {},
   "outputs": [],
   "source": [
    "# config pivot table \n",
    "type_qty_pivot2 = type_qty_pivot.applymap(lambda x: '' if x == 0 else None)\n",
    "for col in type_qty_pivot.columns:\n",
    "    type_qty_pivot2[col] = type_qty_pivot[col].apply(lambda x: col if x != '' else '')\n",
    "\n",
    "type_qty_pivot2"
   ]
  },
  {
   "cell_type": "code",
   "execution_count": null,
   "metadata": {},
   "outputs": [],
   "source": [
    "# config list \n",
    "rows = []\n",
    "\n",
    "for index, row in type_qty_pivot2.iterrows():\n",
    "    filtered_row = [value for value in row if value != '']\n",
    "\n",
    "    rows.append(filtered_row)\n",
    "\n",
    "for row in rows:\n",
    "    print(row)"
   ]
  },
  {
   "cell_type": "code",
   "execution_count": null,
   "metadata": {},
   "outputs": [],
   "source": [
    "# total quantity list \n",
    "total_qty = [sum(qty) for qty in rows_qty]\n",
    "total_qty"
   ]
  },
  {
   "cell_type": "code",
   "execution_count": null,
   "metadata": {},
   "outputs": [],
   "source": [
    "# account list \n",
    "account_numbers = type_qty_pivot.index.get_level_values('DESIGNATED_SITE_ANSYS_ACCOUNT_NUMBER').tolist()\n",
    "account_names = type_qty_pivot.index.get_level_values('ACCOUNT_NAME').tolist()\n",
    "account_numbers"
   ]
  },
  {
   "cell_type": "code",
   "execution_count": null,
   "metadata": {},
   "outputs": [],
   "source": [
    "account_names"
   ]
  },
  {
   "cell_type": "code",
   "execution_count": null,
   "metadata": {},
   "outputs": [],
   "source": [
    "# combine the output \n",
    "combine_data = []\n",
    "for account_id, account_name, config, qty, total_qty, total_acv in zip(account_numbers, account_names, rows, rows_qty, total_qty, total_acv):\n",
    "    combine_data.append({\n",
    "        'Account Number': account_id,\n",
    "        'Account Name': account_name,\n",
    "        'License Configuration': config,\n",
    "        'License Quantity': qty,\n",
    "        'Total License Quantity': total_qty,\n",
    "        'ACV1': total_acv\n",
    "    })\n",
    "\n",
    "combine_data"
   ]
  },
  {
   "cell_type": "code",
   "execution_count": null,
   "metadata": {},
   "outputs": [],
   "source": [
    "len(combine_data)"
   ]
  },
  {
   "cell_type": "code",
   "execution_count": null,
   "metadata": {},
   "outputs": [],
   "source": [
    "output1 = pd.DataFrame(combine_data)\n",
    "output1['License Configuration'] = output1['License Configuration'].apply(lambda x: ', '.join(map(str,x)))\n",
    "output1['License Quantity'] = output1['License Quantity'].apply(lambda x: ', '.join(map(str,x)))\n",
    "output1['Migration Path'] = None \n",
    "output1['Migration License Quantity'] = None \n",
    "output1['Upsell Migration Path'] = None \n",
    "output1['Upsell Migration Quantity'] = None \n",
    "\n",
    "output1"
   ]
  },
  {
   "cell_type": "code",
   "execution_count": null,
   "metadata": {},
   "outputs": [],
   "source": [
    "migration_path = output1.groupby('License Configuration').agg(\n",
    "    Account_Count = ('Account Number','count'),\n",
    "    Total_num_of_licenses = ('Total License Quantity','sum')\n",
    ").reset_index()\n",
    "\n",
    "migration_path['Migration/Renewal Products'] = None\n",
    "migration_path['Upsell Opportunity'] = None\n",
    "migration_path"
   ]
  },
  {
   "cell_type": "code",
   "execution_count": null,
   "metadata": {},
   "outputs": [],
   "source": [
    "### ACTION ### UPDATE FILE OUTPUT PATH \n",
    "with pd.ExcelWriter(r'C:\\Users\\aizhang\\OneDrive - ANSYS, Inc\\Desktop\\Ad-Hoc Tasks\\Chase\\Migration Automation\\output1.xlsx') as writer: \n",
    "    output1.to_excel(writer, sheet_name='Migration-renewal Quantity', index=False)\n",
    "    migration_path.to_excel(writer, sheet_name='Migration-renewal pathways', index=False)\n",
    "\n",
    "print(f\"Data has been written to your file path\")"
   ]
  },
  {
   "cell_type": "code",
   "execution_count": null,
   "metadata": {},
   "outputs": [],
   "source": []
  },
  {
   "cell_type": "code",
   "execution_count": null,
   "metadata": {},
   "outputs": [],
   "source": []
  },
  {
   "cell_type": "code",
   "execution_count": null,
   "metadata": {},
   "outputs": [],
   "source": []
  },
  {
   "cell_type": "code",
   "execution_count": null,
   "metadata": {},
   "outputs": [],
   "source": []
  },
  {
   "cell_type": "code",
   "execution_count": null,
   "metadata": {},
   "outputs": [],
   "source": []
  }
 ],
 "metadata": {
  "kernelspec": {
   "display_name": "Python 3",
   "language": "python",
   "name": "python3"
  },
  "language_info": {
   "codemirror_mode": {
    "name": "ipython",
    "version": 3
   },
   "file_extension": ".py",
   "mimetype": "text/x-python",
   "name": "python",
   "nbconvert_exporter": "python",
   "pygments_lexer": "ipython3",
   "version": "3.9.13"
  }
 },
 "nbformat": 4,
 "nbformat_minor": 2
}
